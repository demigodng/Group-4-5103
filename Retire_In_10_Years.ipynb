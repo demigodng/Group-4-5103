{
  "nbformat": 4,
  "nbformat_minor": 0,
  "metadata": {
    "colab": {
      "name": "Retire In 10 Years.ipynb",
      "provenance": [],
      "authorship_tag": "ABX9TyMsJr8DbJEv+1SJIMyU5Y8N",
      "include_colab_link": true
    },
    "kernelspec": {
      "name": "python3",
      "display_name": "Python 3"
    },
    "language_info": {
      "name": "python"
    }
  },
  "cells": [
    {
      "cell_type": "markdown",
      "metadata": {
        "id": "view-in-github",
        "colab_type": "text"
      },
      "source": [
        "<a href=\"https://colab.research.google.com/github/demigodng/Group-4-5103/blob/master/Retire_In_10_Years.ipynb\" target=\"_parent\"><img src=\"https://colab.research.google.com/assets/colab-badge.svg\" alt=\"Open In Colab\"/></a>"
      ]
    },
    {
      "cell_type": "code",
      "metadata": {
        "id": "A3WGro1Qf8tN"
      },
      "source": [
        "import numpy as np\n",
        "import pandas as pd\n",
        "import matplotlib.pyplot as plt"
      ],
      "execution_count": 12,
      "outputs": []
    },
    {
      "cell_type": "code",
      "metadata": {
        "id": "5qOANdWfgI3n"
      },
      "source": [
        "#Create lists\n",
        "Year = []\n",
        "Yearly_Income = []\n",
        "Yearly_Expenses = []\n",
        "Yearly_Investments = []\n",
        "Annual_Returns = []"
      ],
      "execution_count": 13,
      "outputs": []
    },
    {
      "cell_type": "code",
      "metadata": {
        "id": "dwTseJGhgVH4"
      },
      "source": [
        "#Your Yearly incomce\n",
        "income = 75000\n",
        "#yearly constant expense\n",
        "expense = income / 2\n",
        "#Averege interest of 8% per year\n",
        "interest_rate = 0.08\n",
        "#invest half of your income\n",
        "investment = income / 2\n",
        "#Calculating your annual return\n",
        "annual_return = investment * interest_rate\n",
        "#getting the current Year\n",
        "year = 2021"
      ],
      "execution_count": 14,
      "outputs": []
    },
    {
      "cell_type": "code",
      "metadata": {
        "id": "rXq7Octqg7-9"
      },
      "source": [
        "#append the first value to the lists\n",
        "Year.append(year)\n",
        "Yearly_Income.append(income)\n",
        "Yearly_Expenses.append(expense)\n",
        "Yearly_Investments.append(investment)\n",
        "Annual_Returns.append(annual_return)\n"
      ],
      "execution_count": 15,
      "outputs": []
    },
    {
      "cell_type": "code",
      "metadata": {
        "id": "pWjJgeQvhqcf"
      },
      "source": [
        "#Loop for 'n' years\n",
        "invested_years = 20\n",
        "for i in range(0, invested_years-1):\n",
        "  #Update the investment to be the previous investment plus the previous annual return plus half of your income\n",
        "  investment = investment + annual_return + income/2\n",
        "  #Update the annual return to be the current investment times the interest rate\n",
        "  annual_return = investment * interest_rate\n",
        "  #Append the new data to the lists\n",
        "  Year.append(year+i+1)\n",
        "  Yearly_Income.append(income)\n",
        "  Yearly_Expenses.append(expense)\n",
        "  Yearly_Investments.append(investment)\n",
        "  Annual_Returns.append(annual_return)"
      ],
      "execution_count": 16,
      "outputs": []
    },
    {
      "cell_type": "code",
      "metadata": {
        "id": "W7M0I3oZip9y"
      },
      "source": [
        "#Create a dataframe\n",
        "df = pd.DataFrame()\n",
        "df['Year'] = Year\n",
        "df['Yearly_Income'] = Yearly_Income\n",
        "df['Yearly_Expenses'] = Yearly_Expenses\n",
        "df['Yearly_Investments'] = Yearly_Investments\n",
        "df['Annual_Returns'] = Annual_Returns"
      ],
      "execution_count": 17,
      "outputs": []
    },
    {
      "cell_type": "code",
      "metadata": {
        "colab": {
          "base_uri": "https://localhost:8080/",
          "height": 669
        },
        "id": "h5OWZrC1AOMs",
        "outputId": "b511bab7-eafc-4927-a493-8e77a9bff66e"
      },
      "source": [
        "#show the data\n",
        "df\n"
      ],
      "execution_count": 18,
      "outputs": [
        {
          "output_type": "execute_result",
          "data": {
            "text/html": [
              "<div>\n",
              "<style scoped>\n",
              "    .dataframe tbody tr th:only-of-type {\n",
              "        vertical-align: middle;\n",
              "    }\n",
              "\n",
              "    .dataframe tbody tr th {\n",
              "        vertical-align: top;\n",
              "    }\n",
              "\n",
              "    .dataframe thead th {\n",
              "        text-align: right;\n",
              "    }\n",
              "</style>\n",
              "<table border=\"1\" class=\"dataframe\">\n",
              "  <thead>\n",
              "    <tr style=\"text-align: right;\">\n",
              "      <th></th>\n",
              "      <th>Year</th>\n",
              "      <th>Yearly_Income</th>\n",
              "      <th>Yearly_Expenses</th>\n",
              "      <th>Yearly_Investments</th>\n",
              "      <th>Annual_Returns</th>\n",
              "    </tr>\n",
              "  </thead>\n",
              "  <tbody>\n",
              "    <tr>\n",
              "      <th>0</th>\n",
              "      <td>2021</td>\n",
              "      <td>75000</td>\n",
              "      <td>37500.0</td>\n",
              "      <td>3.750000e+04</td>\n",
              "      <td>3000.000000</td>\n",
              "    </tr>\n",
              "    <tr>\n",
              "      <th>1</th>\n",
              "      <td>2022</td>\n",
              "      <td>75000</td>\n",
              "      <td>37500.0</td>\n",
              "      <td>7.800000e+04</td>\n",
              "      <td>6240.000000</td>\n",
              "    </tr>\n",
              "    <tr>\n",
              "      <th>2</th>\n",
              "      <td>2023</td>\n",
              "      <td>75000</td>\n",
              "      <td>37500.0</td>\n",
              "      <td>1.217400e+05</td>\n",
              "      <td>9739.200000</td>\n",
              "    </tr>\n",
              "    <tr>\n",
              "      <th>3</th>\n",
              "      <td>2024</td>\n",
              "      <td>75000</td>\n",
              "      <td>37500.0</td>\n",
              "      <td>1.689792e+05</td>\n",
              "      <td>13518.336000</td>\n",
              "    </tr>\n",
              "    <tr>\n",
              "      <th>4</th>\n",
              "      <td>2025</td>\n",
              "      <td>75000</td>\n",
              "      <td>37500.0</td>\n",
              "      <td>2.199975e+05</td>\n",
              "      <td>17599.802880</td>\n",
              "    </tr>\n",
              "    <tr>\n",
              "      <th>5</th>\n",
              "      <td>2026</td>\n",
              "      <td>75000</td>\n",
              "      <td>37500.0</td>\n",
              "      <td>2.750973e+05</td>\n",
              "      <td>22007.787110</td>\n",
              "    </tr>\n",
              "    <tr>\n",
              "      <th>6</th>\n",
              "      <td>2027</td>\n",
              "      <td>75000</td>\n",
              "      <td>37500.0</td>\n",
              "      <td>3.346051e+05</td>\n",
              "      <td>26768.410079</td>\n",
              "    </tr>\n",
              "    <tr>\n",
              "      <th>7</th>\n",
              "      <td>2028</td>\n",
              "      <td>75000</td>\n",
              "      <td>37500.0</td>\n",
              "      <td>3.988735e+05</td>\n",
              "      <td>31909.882886</td>\n",
              "    </tr>\n",
              "    <tr>\n",
              "      <th>8</th>\n",
              "      <td>2029</td>\n",
              "      <td>75000</td>\n",
              "      <td>37500.0</td>\n",
              "      <td>4.682834e+05</td>\n",
              "      <td>37462.673516</td>\n",
              "    </tr>\n",
              "    <tr>\n",
              "      <th>9</th>\n",
              "      <td>2030</td>\n",
              "      <td>75000</td>\n",
              "      <td>37500.0</td>\n",
              "      <td>5.432461e+05</td>\n",
              "      <td>43459.687398</td>\n",
              "    </tr>\n",
              "    <tr>\n",
              "      <th>10</th>\n",
              "      <td>2031</td>\n",
              "      <td>75000</td>\n",
              "      <td>37500.0</td>\n",
              "      <td>6.242058e+05</td>\n",
              "      <td>49936.462390</td>\n",
              "    </tr>\n",
              "    <tr>\n",
              "      <th>11</th>\n",
              "      <td>2032</td>\n",
              "      <td>75000</td>\n",
              "      <td>37500.0</td>\n",
              "      <td>7.116422e+05</td>\n",
              "      <td>56931.379381</td>\n",
              "    </tr>\n",
              "    <tr>\n",
              "      <th>12</th>\n",
              "      <td>2033</td>\n",
              "      <td>75000</td>\n",
              "      <td>37500.0</td>\n",
              "      <td>8.060736e+05</td>\n",
              "      <td>64485.889731</td>\n",
              "    </tr>\n",
              "    <tr>\n",
              "      <th>13</th>\n",
              "      <td>2034</td>\n",
              "      <td>75000</td>\n",
              "      <td>37500.0</td>\n",
              "      <td>9.080595e+05</td>\n",
              "      <td>72644.760910</td>\n",
              "    </tr>\n",
              "    <tr>\n",
              "      <th>14</th>\n",
              "      <td>2035</td>\n",
              "      <td>75000</td>\n",
              "      <td>37500.0</td>\n",
              "      <td>1.018204e+06</td>\n",
              "      <td>81456.341782</td>\n",
              "    </tr>\n",
              "    <tr>\n",
              "      <th>15</th>\n",
              "      <td>2036</td>\n",
              "      <td>75000</td>\n",
              "      <td>37500.0</td>\n",
              "      <td>1.137161e+06</td>\n",
              "      <td>90972.849125</td>\n",
              "    </tr>\n",
              "    <tr>\n",
              "      <th>16</th>\n",
              "      <td>2037</td>\n",
              "      <td>75000</td>\n",
              "      <td>37500.0</td>\n",
              "      <td>1.265633e+06</td>\n",
              "      <td>101250.677055</td>\n",
              "    </tr>\n",
              "    <tr>\n",
              "      <th>17</th>\n",
              "      <td>2038</td>\n",
              "      <td>75000</td>\n",
              "      <td>37500.0</td>\n",
              "      <td>1.404384e+06</td>\n",
              "      <td>112350.731219</td>\n",
              "    </tr>\n",
              "    <tr>\n",
              "      <th>18</th>\n",
              "      <td>2039</td>\n",
              "      <td>75000</td>\n",
              "      <td>37500.0</td>\n",
              "      <td>1.554235e+06</td>\n",
              "      <td>124338.789717</td>\n",
              "    </tr>\n",
              "    <tr>\n",
              "      <th>19</th>\n",
              "      <td>2040</td>\n",
              "      <td>75000</td>\n",
              "      <td>37500.0</td>\n",
              "      <td>1.716074e+06</td>\n",
              "      <td>137285.892894</td>\n",
              "    </tr>\n",
              "  </tbody>\n",
              "</table>\n",
              "</div>"
            ],
            "text/plain": [
              "    Year  Yearly_Income  Yearly_Expenses  Yearly_Investments  Annual_Returns\n",
              "0   2021          75000          37500.0        3.750000e+04     3000.000000\n",
              "1   2022          75000          37500.0        7.800000e+04     6240.000000\n",
              "2   2023          75000          37500.0        1.217400e+05     9739.200000\n",
              "3   2024          75000          37500.0        1.689792e+05    13518.336000\n",
              "4   2025          75000          37500.0        2.199975e+05    17599.802880\n",
              "5   2026          75000          37500.0        2.750973e+05    22007.787110\n",
              "6   2027          75000          37500.0        3.346051e+05    26768.410079\n",
              "7   2028          75000          37500.0        3.988735e+05    31909.882886\n",
              "8   2029          75000          37500.0        4.682834e+05    37462.673516\n",
              "9   2030          75000          37500.0        5.432461e+05    43459.687398\n",
              "10  2031          75000          37500.0        6.242058e+05    49936.462390\n",
              "11  2032          75000          37500.0        7.116422e+05    56931.379381\n",
              "12  2033          75000          37500.0        8.060736e+05    64485.889731\n",
              "13  2034          75000          37500.0        9.080595e+05    72644.760910\n",
              "14  2035          75000          37500.0        1.018204e+06    81456.341782\n",
              "15  2036          75000          37500.0        1.137161e+06    90972.849125\n",
              "16  2037          75000          37500.0        1.265633e+06   101250.677055\n",
              "17  2038          75000          37500.0        1.404384e+06   112350.731219\n",
              "18  2039          75000          37500.0        1.554235e+06   124338.789717\n",
              "19  2040          75000          37500.0        1.716074e+06   137285.892894"
            ]
          },
          "metadata": {},
          "execution_count": 18
        }
      ]
    },
    {
      "cell_type": "code",
      "metadata": {
        "colab": {
          "base_uri": "https://localhost:8080/",
          "height": 355
        },
        "id": "L-9q3mMCAyKj",
        "outputId": "32b24626-e549-43ec-c761-60232c50f322"
      },
      "source": [
        "#Visualise the data\n",
        "plt.figure(figsize = (12.2,4.5))\n",
        "plt.plot(df['Year'], df['Yearly_Expenses'], label= 'Yearly_Expenses')\n",
        "plt.plot(df['Year'], df['Annual_Returns'], label = 'Annual_Returns')\n",
        "plt.xticks(rotation = 45)\n",
        "plt.title('Reture in 10 Years')\n",
        "plt.xlabel('Years')\n",
        "plt.ylabel('$')\n",
        "plt.xticks(df['Year'])\n",
        "plt.legend ()\n",
        "plt.show"
      ],
      "execution_count": 19,
      "outputs": [
        {
          "output_type": "execute_result",
          "data": {
            "text/plain": [
              "<function matplotlib.pyplot.show>"
            ]
          },
          "metadata": {},
          "execution_count": 19
        },
        {
          "output_type": "display_data",
          "data": {
            "image/png": "[encoded data removed]",
            "text/plain": [
              "<Figure size 878.4x324 with 1 Axes>"
            ]
          },
          "metadata": {
            "needs_background": "light"
          }
        }
      ]
    },
    {
      "cell_type": "code",
      "metadata": {
        "colab": {
          "base_uri": "https://localhost:8080/",
          "height": 80
        },
        "id": "WJha7cOyCL1a",
        "outputId": "324c18a1-c914-4608-da53-4cbb0db994b7"
      },
      "source": [
        "#show the year/rpw where you can live off of returns\n",
        "df[df.Yearly_Expenses <= df.Annual_Returns].head(1)"
      ],
      "execution_count": 20,
      "outputs": [
        {
          "output_type": "execute_result",
          "data": {
            "text/html": [
              "<div>\n",
              "<style scoped>\n",
              "    .dataframe tbody tr th:only-of-type {\n",
              "        vertical-align: middle;\n",
              "    }\n",
              "\n",
              "    .dataframe tbody tr th {\n",
              "        vertical-align: top;\n",
              "    }\n",
              "\n",
              "    .dataframe thead th {\n",
              "        text-align: right;\n",
              "    }\n",
              "</style>\n",
              "<table border=\"1\" class=\"dataframe\">\n",
              "  <thead>\n",
              "    <tr style=\"text-align: right;\">\n",
              "      <th></th>\n",
              "      <th>Year</th>\n",
              "      <th>Yearly_Income</th>\n",
              "      <th>Yearly_Expenses</th>\n",
              "      <th>Yearly_Investments</th>\n",
              "      <th>Annual_Returns</th>\n",
              "    </tr>\n",
              "  </thead>\n",
              "  <tbody>\n",
              "    <tr>\n",
              "      <th>9</th>\n",
              "      <td>2030</td>\n",
              "      <td>75000</td>\n",
              "      <td>37500.0</td>\n",
              "      <td>543246.092472</td>\n",
              "      <td>43459.687398</td>\n",
              "    </tr>\n",
              "  </tbody>\n",
              "</table>\n",
              "</div>"
            ],
            "text/plain": [
              "   Year  Yearly_Income  Yearly_Expenses  Yearly_Investments  Annual_Returns\n",
              "9  2030          75000          37500.0       543246.092472    43459.687398"
            ]
          },
          "metadata": {},
          "execution_count": 20
        }
      ]
    }
  ]
}